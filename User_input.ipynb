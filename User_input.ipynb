{
  "nbformat": 4,
  "nbformat_minor": 0,
  "metadata": {
    "colab": {
      "provenance": [],
      "authorship_tag": "ABX9TyMzGCAyGaZGNBu3sX2IkAx3",
      "include_colab_link": true
    },
    "kernelspec": {
      "name": "python3",
      "display_name": "Python 3"
    },
    "language_info": {
      "name": "python"
    }
  },
  "cells": [
    {
      "cell_type": "markdown",
      "metadata": {
        "id": "view-in-github",
        "colab_type": "text"
      },
      "source": [
        "<a href=\"https://colab.research.google.com/github/MwambaMatthews/assignments/blob/main/User_input.ipynb\" target=\"_parent\"><img src=\"https://colab.research.google.com/assets/colab-badge.svg\" alt=\"Open In Colab\"/></a>"
      ]
    },
    {
      "cell_type": "code",
      "execution_count": 20,
      "metadata": {
        "colab": {
          "base_uri": "https://localhost:8080/"
        },
        "id": "rCv91bMTOvYW",
        "outputId": "75e95f8e-06fc-4c7a-f900-ba0fbf0217d7"
      },
      "outputs": [
        {
          "output_type": "stream",
          "name": "stdout",
          "text": [
            "enter your name: Mathews Mwmaba\n",
            "ENter your age: 22\n",
            "enter your location: Mtendere\n",
            "Hello Mathews Mwmaba you are 22 years old and live in Mtendere\n"
          ]
        }
      ],
      "source": [
        "name =input(\"enter your name: \")\n",
        "age =input(\"ENter your age: \")\n",
        "location =input(\"enter your location: \")\n",
        "print('Hello', name , end='')\n",
        "print(' you are', age , end='')\n",
        "print(' years old and live in', location)"
      ]
    }
  ]
}